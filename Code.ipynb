{
 "cells": [
  {
   "cell_type": "markdown",
   "metadata": {},
   "source": [
    "# DSIR CODING CHALLENGE - RUSSELL BROWN"
   ]
  },
  {
   "cell_type": "code",
   "execution_count": 1,
   "metadata": {},
   "outputs": [
    {
     "data": {
      "text/html": [
       "<div>\n",
       "<style>\n",
       "    .dataframe thead tr:only-child th {\n",
       "        text-align: right;\n",
       "    }\n",
       "\n",
       "    .dataframe thead th {\n",
       "        text-align: left;\n",
       "    }\n",
       "\n",
       "    .dataframe tbody tr th {\n",
       "        vertical-align: top;\n",
       "    }\n",
       "</style>\n",
       "<table border=\"1\" class=\"dataframe\">\n",
       "  <thead>\n",
       "    <tr style=\"text-align: right;\">\n",
       "      <th></th>\n",
       "      <th>age</th>\n",
       "      <th>job</th>\n",
       "      <th>marital</th>\n",
       "      <th>education</th>\n",
       "      <th>default</th>\n",
       "      <th>balance</th>\n",
       "      <th>housing</th>\n",
       "      <th>loan</th>\n",
       "      <th>contact</th>\n",
       "      <th>day</th>\n",
       "      <th>month</th>\n",
       "      <th>duration</th>\n",
       "      <th>campaign</th>\n",
       "      <th>pdays</th>\n",
       "      <th>previous</th>\n",
       "      <th>poutcome</th>\n",
       "      <th>y</th>\n",
       "    </tr>\n",
       "  </thead>\n",
       "  <tbody>\n",
       "    <tr>\n",
       "      <th>0</th>\n",
       "      <td>58</td>\n",
       "      <td>management</td>\n",
       "      <td>married</td>\n",
       "      <td>tertiary</td>\n",
       "      <td>no</td>\n",
       "      <td>2143</td>\n",
       "      <td>yes</td>\n",
       "      <td>no</td>\n",
       "      <td>unknown</td>\n",
       "      <td>5</td>\n",
       "      <td>may</td>\n",
       "      <td>261</td>\n",
       "      <td>1</td>\n",
       "      <td>-1</td>\n",
       "      <td>0</td>\n",
       "      <td>unknown</td>\n",
       "      <td>no</td>\n",
       "    </tr>\n",
       "    <tr>\n",
       "      <th>1</th>\n",
       "      <td>44</td>\n",
       "      <td>technician</td>\n",
       "      <td>single</td>\n",
       "      <td>secondary</td>\n",
       "      <td>no</td>\n",
       "      <td>29</td>\n",
       "      <td>yes</td>\n",
       "      <td>no</td>\n",
       "      <td>unknown</td>\n",
       "      <td>5</td>\n",
       "      <td>may</td>\n",
       "      <td>151</td>\n",
       "      <td>1</td>\n",
       "      <td>-1</td>\n",
       "      <td>0</td>\n",
       "      <td>unknown</td>\n",
       "      <td>no</td>\n",
       "    </tr>\n",
       "    <tr>\n",
       "      <th>2</th>\n",
       "      <td>33</td>\n",
       "      <td>entrepreneur</td>\n",
       "      <td>married</td>\n",
       "      <td>secondary</td>\n",
       "      <td>no</td>\n",
       "      <td>2</td>\n",
       "      <td>yes</td>\n",
       "      <td>yes</td>\n",
       "      <td>unknown</td>\n",
       "      <td>5</td>\n",
       "      <td>may</td>\n",
       "      <td>76</td>\n",
       "      <td>1</td>\n",
       "      <td>-1</td>\n",
       "      <td>0</td>\n",
       "      <td>unknown</td>\n",
       "      <td>no</td>\n",
       "    </tr>\n",
       "    <tr>\n",
       "      <th>3</th>\n",
       "      <td>47</td>\n",
       "      <td>blue-collar</td>\n",
       "      <td>married</td>\n",
       "      <td>unknown</td>\n",
       "      <td>no</td>\n",
       "      <td>1506</td>\n",
       "      <td>yes</td>\n",
       "      <td>no</td>\n",
       "      <td>unknown</td>\n",
       "      <td>5</td>\n",
       "      <td>may</td>\n",
       "      <td>92</td>\n",
       "      <td>1</td>\n",
       "      <td>-1</td>\n",
       "      <td>0</td>\n",
       "      <td>unknown</td>\n",
       "      <td>no</td>\n",
       "    </tr>\n",
       "    <tr>\n",
       "      <th>4</th>\n",
       "      <td>33</td>\n",
       "      <td>unknown</td>\n",
       "      <td>single</td>\n",
       "      <td>unknown</td>\n",
       "      <td>no</td>\n",
       "      <td>1</td>\n",
       "      <td>no</td>\n",
       "      <td>no</td>\n",
       "      <td>unknown</td>\n",
       "      <td>5</td>\n",
       "      <td>may</td>\n",
       "      <td>198</td>\n",
       "      <td>1</td>\n",
       "      <td>-1</td>\n",
       "      <td>0</td>\n",
       "      <td>unknown</td>\n",
       "      <td>no</td>\n",
       "    </tr>\n",
       "  </tbody>\n",
       "</table>\n",
       "</div>"
      ],
      "text/plain": [
       "   age           job  marital  education default  balance housing loan  \\\n",
       "0   58    management  married   tertiary      no     2143     yes   no   \n",
       "1   44    technician   single  secondary      no       29     yes   no   \n",
       "2   33  entrepreneur  married  secondary      no        2     yes  yes   \n",
       "3   47   blue-collar  married    unknown      no     1506     yes   no   \n",
       "4   33       unknown   single    unknown      no        1      no   no   \n",
       "\n",
       "   contact  day month  duration  campaign  pdays  previous poutcome   y  \n",
       "0  unknown    5   may       261         1     -1         0  unknown  no  \n",
       "1  unknown    5   may       151         1     -1         0  unknown  no  \n",
       "2  unknown    5   may        76         1     -1         0  unknown  no  \n",
       "3  unknown    5   may        92         1     -1         0  unknown  no  \n",
       "4  unknown    5   may       198         1     -1         0  unknown  no  "
      ]
     },
     "execution_count": 1,
     "metadata": {},
     "output_type": "execute_result"
    }
   ],
   "source": [
    "import pandas as pd\n",
    "pd.options.display.max_rows = 10\n",
    "\n",
    "data = pd.read_csv('bank-full.csv', delimiter=';')\n",
    "data.head()"
   ]
  },
  {
   "cell_type": "markdown",
   "metadata": {},
   "source": [
    "Comment on any steps you might take to evaluate or transform the dataset"
   ]
  },
  {
   "cell_type": "code",
   "execution_count": 2,
   "metadata": {},
   "outputs": [
    {
     "name": "stdout",
     "output_type": "stream",
     "text": [
      "<class 'pandas.core.frame.DataFrame'>\n",
      "RangeIndex: 45211 entries, 0 to 45210\n",
      "Data columns (total 17 columns):\n",
      "age          45211 non-null int64\n",
      "job          45211 non-null object\n",
      "marital      45211 non-null object\n",
      "education    45211 non-null object\n",
      "default      45211 non-null object\n",
      "balance      45211 non-null int64\n",
      "housing      45211 non-null object\n",
      "loan         45211 non-null object\n",
      "contact      45211 non-null object\n",
      "day          45211 non-null int64\n",
      "month        45211 non-null object\n",
      "duration     45211 non-null int64\n",
      "campaign     45211 non-null int64\n",
      "pdays        45211 non-null int64\n",
      "previous     45211 non-null int64\n",
      "poutcome     45211 non-null object\n",
      "y            45211 non-null object\n",
      "dtypes: int64(7), object(10)\n",
      "memory usage: 5.9+ MB\n",
      "None\n"
     ]
    },
    {
     "data": {
      "text/html": [
       "<div>\n",
       "<style>\n",
       "    .dataframe thead tr:only-child th {\n",
       "        text-align: right;\n",
       "    }\n",
       "\n",
       "    .dataframe thead th {\n",
       "        text-align: left;\n",
       "    }\n",
       "\n",
       "    .dataframe tbody tr th {\n",
       "        vertical-align: top;\n",
       "    }\n",
       "</style>\n",
       "<table border=\"1\" class=\"dataframe\">\n",
       "  <thead>\n",
       "    <tr style=\"text-align: right;\">\n",
       "      <th></th>\n",
       "      <th>age</th>\n",
       "      <th>balance</th>\n",
       "      <th>day</th>\n",
       "      <th>duration</th>\n",
       "      <th>campaign</th>\n",
       "      <th>pdays</th>\n",
       "      <th>previous</th>\n",
       "    </tr>\n",
       "  </thead>\n",
       "  <tbody>\n",
       "    <tr>\n",
       "      <th>count</th>\n",
       "      <td>45211.000000</td>\n",
       "      <td>45211.000000</td>\n",
       "      <td>45211.000000</td>\n",
       "      <td>45211.000000</td>\n",
       "      <td>45211.000000</td>\n",
       "      <td>45211.000000</td>\n",
       "      <td>45211.000000</td>\n",
       "    </tr>\n",
       "    <tr>\n",
       "      <th>mean</th>\n",
       "      <td>40.936210</td>\n",
       "      <td>1362.272058</td>\n",
       "      <td>15.806419</td>\n",
       "      <td>258.163080</td>\n",
       "      <td>2.763841</td>\n",
       "      <td>40.197828</td>\n",
       "      <td>0.580323</td>\n",
       "    </tr>\n",
       "    <tr>\n",
       "      <th>std</th>\n",
       "      <td>10.618762</td>\n",
       "      <td>3044.765829</td>\n",
       "      <td>8.322476</td>\n",
       "      <td>257.527812</td>\n",
       "      <td>3.098021</td>\n",
       "      <td>100.128746</td>\n",
       "      <td>2.303441</td>\n",
       "    </tr>\n",
       "    <tr>\n",
       "      <th>min</th>\n",
       "      <td>18.000000</td>\n",
       "      <td>-8019.000000</td>\n",
       "      <td>1.000000</td>\n",
       "      <td>0.000000</td>\n",
       "      <td>1.000000</td>\n",
       "      <td>-1.000000</td>\n",
       "      <td>0.000000</td>\n",
       "    </tr>\n",
       "    <tr>\n",
       "      <th>25%</th>\n",
       "      <td>33.000000</td>\n",
       "      <td>72.000000</td>\n",
       "      <td>8.000000</td>\n",
       "      <td>103.000000</td>\n",
       "      <td>1.000000</td>\n",
       "      <td>-1.000000</td>\n",
       "      <td>0.000000</td>\n",
       "    </tr>\n",
       "    <tr>\n",
       "      <th>50%</th>\n",
       "      <td>39.000000</td>\n",
       "      <td>448.000000</td>\n",
       "      <td>16.000000</td>\n",
       "      <td>180.000000</td>\n",
       "      <td>2.000000</td>\n",
       "      <td>-1.000000</td>\n",
       "      <td>0.000000</td>\n",
       "    </tr>\n",
       "    <tr>\n",
       "      <th>75%</th>\n",
       "      <td>48.000000</td>\n",
       "      <td>1428.000000</td>\n",
       "      <td>21.000000</td>\n",
       "      <td>319.000000</td>\n",
       "      <td>3.000000</td>\n",
       "      <td>-1.000000</td>\n",
       "      <td>0.000000</td>\n",
       "    </tr>\n",
       "    <tr>\n",
       "      <th>max</th>\n",
       "      <td>95.000000</td>\n",
       "      <td>102127.000000</td>\n",
       "      <td>31.000000</td>\n",
       "      <td>4918.000000</td>\n",
       "      <td>63.000000</td>\n",
       "      <td>871.000000</td>\n",
       "      <td>275.000000</td>\n",
       "    </tr>\n",
       "  </tbody>\n",
       "</table>\n",
       "</div>"
      ],
      "text/plain": [
       "                age        balance           day      duration      campaign  \\\n",
       "count  45211.000000   45211.000000  45211.000000  45211.000000  45211.000000   \n",
       "mean      40.936210    1362.272058     15.806419    258.163080      2.763841   \n",
       "std       10.618762    3044.765829      8.322476    257.527812      3.098021   \n",
       "min       18.000000   -8019.000000      1.000000      0.000000      1.000000   \n",
       "25%       33.000000      72.000000      8.000000    103.000000      1.000000   \n",
       "50%       39.000000     448.000000     16.000000    180.000000      2.000000   \n",
       "75%       48.000000    1428.000000     21.000000    319.000000      3.000000   \n",
       "max       95.000000  102127.000000     31.000000   4918.000000     63.000000   \n",
       "\n",
       "              pdays      previous  \n",
       "count  45211.000000  45211.000000  \n",
       "mean      40.197828      0.580323  \n",
       "std      100.128746      2.303441  \n",
       "min       -1.000000      0.000000  \n",
       "25%       -1.000000      0.000000  \n",
       "50%       -1.000000      0.000000  \n",
       "75%       -1.000000      0.000000  \n",
       "max      871.000000    275.000000  "
      ]
     },
     "execution_count": 2,
     "metadata": {},
     "output_type": "execute_result"
    }
   ],
   "source": [
    "print data.info()\n",
    "data.describe()\n",
    "\n",
    "# No missing values in any columns\n",
    "# range for age, balance, day, campaign, "
   ]
  },
  {
   "cell_type": "code",
   "execution_count": 3,
   "metadata": {},
   "outputs": [
    {
     "name": "stdout",
     "output_type": "stream",
     "text": [
      "NUMERIC COLUMNS:\n",
      "['age' 'balance' 'day' 'duration' 'campaign' 'pdays' 'previous']\n",
      "CATEGORICAL COLUMNS:\n",
      "['job', 'marital', 'education', 'default', 'housing', 'loan', 'contact', 'month', 'poutcome', 'y']\n"
     ]
    }
   ],
   "source": [
    "# split column names into numeric and categorical for visual inspection\n",
    "all_cols = data.columns.values\n",
    "num_cols = data.describe().columns.values\n",
    "cat_cols = []\n",
    "for key in all_cols:\n",
    "    if key not in num_cols:\n",
    "        cat_cols.append(key)\n",
    "\n",
    "print 'NUMERIC COLUMNS:'\n",
    "print num_cols\n",
    "print 'CATEGORICAL COLUMNS:'\n",
    "print cat_cols"
   ]
  },
  {
   "cell_type": "code",
   "execution_count": 4,
   "metadata": {},
   "outputs": [
    {
     "name": "stdout",
     "output_type": "stream",
     "text": [
      "blue-collar     9732\n",
      "management      9458\n",
      "technician      7597\n",
      "admin.          5171\n",
      "services        4154\n",
      "                ... \n",
      "entrepreneur    1487\n",
      "unemployed      1303\n",
      "housemaid       1240\n",
      "student          938\n",
      "unknown          288\n",
      "Name: job, Length: 12, dtype: int64\n",
      "\n",
      "married     27214\n",
      "single      12790\n",
      "divorced     5207\n",
      "Name: marital, dtype: int64\n",
      "\n",
      "secondary    23202\n",
      "tertiary     13301\n",
      "primary       6851\n",
      "unknown       1857\n",
      "Name: education, dtype: int64\n",
      "\n",
      "no     44396\n",
      "yes      815\n",
      "Name: default, dtype: int64\n",
      "\n",
      "yes    25130\n",
      "no     20081\n",
      "Name: housing, dtype: int64\n",
      "\n",
      "no     37967\n",
      "yes     7244\n",
      "Name: loan, dtype: int64\n",
      "\n",
      "cellular     29285\n",
      "unknown      13020\n",
      "telephone     2906\n",
      "Name: contact, dtype: int64\n",
      "\n",
      "may    13766\n",
      "jul     6895\n",
      "aug     6247\n",
      "jun     5341\n",
      "nov     3970\n",
      "       ...  \n",
      "jan     1403\n",
      "oct      738\n",
      "sep      579\n",
      "mar      477\n",
      "dec      214\n",
      "Name: month, Length: 12, dtype: int64\n",
      "\n",
      "unknown    36959\n",
      "failure     4901\n",
      "other       1840\n",
      "success     1511\n",
      "Name: poutcome, dtype: int64\n",
      "\n",
      "no     39922\n",
      "yes     5289\n",
      "Name: y, dtype: int64\n",
      "\n"
     ]
    }
   ],
   "source": [
    "for key in cat_cols:\n",
    "    print data[key].value_counts()\n",
    "    print\n",
    "    \n",
    "# There are no typos and there are no null values in any of these columns\n",
    "# This data requires no cleaning"
   ]
  },
  {
   "cell_type": "markdown",
   "metadata": {},
   "source": [
    "Compute the mean and median age among individuals who do subscribe a term deposit and among individuals who do not subscribe a term deposit. Do the mean and median differ among those who subscribe a term deposit? What about among those who do not subscribe a term deposit? Explain how you would identify this."
   ]
  },
  {
   "cell_type": "code",
   "execution_count": 5,
   "metadata": {},
   "outputs": [
    {
     "name": "stdout",
     "output_type": "stream",
     "text": [
      "Mean Age of Subscribers: 41.6700699565\n",
      "Median Age of Subscribers: 38.0\n",
      "\n",
      "Mean Age of Non-Subscribers: 40.8389860227\n",
      "Median Age of Non-Subscribers: 39.0\n"
     ]
    }
   ],
   "source": [
    "import numpy as np\n",
    "\n",
    "age_yes = data['age'][data['y'] == 'yes']\n",
    "mean_age_yes = np.mean(age_yes)\n",
    "med_age_yes = np.median(age_yes)\n",
    "print 'Mean Age of Subscribers: ' + str(mean_age_yes)\n",
    "print 'Median Age of Subscribers: ' + str(med_age_yes)\n",
    "print\n",
    "age_no = data['age'][data['y'] == 'no']\n",
    "mean_age_no = np.mean(age_no)\n",
    "med_age_no = np.median(age_no)\n",
    "print 'Mean Age of Non-Subscribers: ' + str(mean_age_no)\n",
    "print 'Median Age of Non-Subscribers: ' + str(med_age_no)\n",
    "\n",
    "# The mean and median are different for both subscribers and non-subscribers"
   ]
  },
  {
   "cell_type": "markdown",
   "metadata": {},
   "source": [
    "Write a function to generate bootstrap samples of the data. Your function should default to taking a bootstrapped sample of size 100."
   ]
  },
  {
   "cell_type": "code",
   "execution_count": 6,
   "metadata": {
    "collapsed": true
   },
   "outputs": [],
   "source": [
    "def bootstrap_samples(data, func, iters=100):\n",
    "    sample_list=[]\n",
    "    sample_size = len(data)\n",
    "    for i in range(iters):\n",
    "        bstrap_data = np.random.choice( data, size = sample_size)\n",
    "        sample_list.append( func( bstrap_data))\n",
    "    return sample_list"
   ]
  },
  {
   "cell_type": "markdown",
   "metadata": {},
   "source": [
    "# EDA\n",
    "Identify 2-3 variables that are predictive of whether or not the client will subscribe a term deposit.\n",
    "Display the relationship visually and write 1-2 sentences explaining the relationship."
   ]
  },
  {
   "cell_type": "code",
   "execution_count": 7,
   "metadata": {},
   "outputs": [],
   "source": [
    "from sklearn.preprocessing import StandardScaler\n",
    "\n",
    "#target columns: y\n",
    "#binary columns: default, housing, loan\n",
    "\n",
    "bin_cols = [ 'default', 'housing', 'loan' ]\n",
    "cat_cols_nonbin = []\n",
    "for col in cat_cols:\n",
    "    if col not in bin_cols+['y']:\n",
    "        cat_cols_nonbin.append(col)\n",
    "#bin_cols, num_cols, cat_cols_nonbin\n",
    "\n",
    "#setup target variable\n",
    "y = [ 1 if entry=='yes' else 0 for entry in data['y'] ]\n",
    "\n",
    "# create separate dataframe for binary predictors and convert to 1 for yes 0 for no\n",
    "df_bin = pd.DataFrame()\n",
    "for col in bin_cols:\n",
    "    values = [ 1 if entry=='yes' else 0 for entry in data[col] ]\n",
    "    df_bin[ col ] = values\n",
    "\n",
    "# create dummy columns for all categorical non-binary variables\n",
    "for col in cat_cols_nonbin:\n",
    "    dummies = pd.get_dummies( data[col])\n",
    "    for dummy_col in dummies:\n",
    "        new_colname = col+'_'+dummy_col\n",
    "        df_bin[ new_colname] = dummies[ dummy_col]\n",
    "        \n",
    "# dataframe with only numerical columns, scaled \n",
    "df_num = pd.DataFrame(StandardScaler().fit_transform( data[num_cols]),\n",
    "                     columns = num_cols)"
   ]
  },
  {
   "cell_type": "code",
   "execution_count": 8,
   "metadata": {
    "scrolled": true
   },
   "outputs": [
    {
     "data": {
      "text/plain": [
       "[('poutcome_success', 4697.1138374124139),\n",
       " ('poutcome_unknown', 1297.8158873357504),\n",
       " ('contact_unknown', 1053.9327759328826),\n",
       " ('housing', 892.95057645729457),\n",
       " ('contact_cellular', 850.32208383945363),\n",
       " ('month_mar', 770.56623724989026),\n",
       " ('month_oct', 759.41285973811193),\n",
       " ('month_sep', 696.59937205377992),\n",
       " ('month_may', 480.0199565661938),\n",
       " ('job_retired', 285.69841262425325),\n",
       " ('job_student', 268.91782250482783),\n",
       " ('month_dec', 256.86831316535199),\n",
       " ('job_blue-collar', 236.13194607596154),\n",
       " ('loan', 211.16739503154506),\n",
       " ('education_tertiary', 200.499805793322),\n",
       " ('month_apr', 194.14822806919628),\n",
       " ('marital_single', 183.18122740749652),\n",
       " ('marital_married', 164.76639079057216),\n",
       " ('education_primary', 73.884778189740814),\n",
       " ('month_feb', 66.821798254144099),\n",
       " ('education_secondary', 59.93910700565111),\n",
       " ('month_jul', 53.504294165213523),\n",
       " ('job_management', 49.043705547840354),\n",
       " ('poutcome_other', 46.211124253684368),\n",
       " ('job_services', 35.127526013574091),\n",
       " ('default', 22.733923216953407),\n",
       " ('job_unemployed', 18.803409207295687),\n",
       " ('job_entrepreneur', 17.484849577443839),\n",
       " ('month_jun', 12.770507251706784),\n",
       " ('job_housemaid', 10.440441274043398),\n",
       " ('month_nov', 10.089297080974314),\n",
       " ('contact_telephone', 8.9165667524820087),\n",
       " ('education_unknown', 6.5688490591961806),\n",
       " ('poutcome_failure', 4.4183538580609856),\n",
       " ('job_technician', 3.6376997468560344),\n",
       " ('month_jan', 3.4873856204992975),\n",
       " ('month_aug', 3.2945347551549395),\n",
       " ('job_admin.', 1.4368353961737348),\n",
       " ('marital_divorced', 0.34748000959582004),\n",
       " ('job_self-employed', 0.033051293144409431),\n",
       " ('job_unknown', 0.0032168291253126869)]"
      ]
     },
     "execution_count": 8,
     "metadata": {},
     "output_type": "execute_result"
    }
   ],
   "source": [
    "# NUMERIC COLUMNS:\n",
    "# ['age' 'balance' 'day' 'duration' 'campaign' 'pdays' 'previous']\n",
    "# CATEGORICAL COLUMNS:\n",
    "# ['job', 'marital', 'education', 'default', 'housing', 'loan', 'contact', 'month', 'poutcome', 'y']\n",
    "\n",
    "from sklearn.feature_selection import SelectKBest\n",
    "features = df_bin.columns.values\n",
    "scores = SelectKBest(k='all').fit(df_bin, y).scores_\n",
    "feat_scores = zip(features, scores)\n",
    "feat_scores = sorted(feat_scores, key=lambda x: x[1], reverse=True)\n",
    "feat_scores\n",
    "#poutcome, contact, housing, month, job, loan, education seem to be important categorical predictors of 'y'"
   ]
  },
  {
   "cell_type": "code",
   "execution_count": 9,
   "metadata": {},
   "outputs": [
    {
     "name": "stdout",
     "output_type": "stream",
     "text": [
      "Optimization terminated successfully.\n",
      "         Current function value: 0.293206\n",
      "         Iterations 7\n"
     ]
    },
    {
     "data": {
      "text/html": [
       "<table class=\"simpletable\">\n",
       "<caption>Logit Regression Results</caption>\n",
       "<tr>\n",
       "  <th>Dep. Variable:</th>         <td>y</td>        <th>  No. Observations:  </th>  <td> 45211</td> \n",
       "</tr>\n",
       "<tr>\n",
       "  <th>Model:</th>               <td>Logit</td>      <th>  Df Residuals:      </th>  <td> 45203</td> \n",
       "</tr>\n",
       "<tr>\n",
       "  <th>Method:</th>               <td>MLE</td>       <th>  Df Model:          </th>  <td>     7</td> \n",
       "</tr>\n",
       "<tr>\n",
       "  <th>Date:</th>          <td>Wed, 23 Aug 2017</td> <th>  Pseudo R-squ.:     </th>  <td>0.1875</td> \n",
       "</tr>\n",
       "<tr>\n",
       "  <th>Time:</th>              <td>16:38:33</td>     <th>  Log-Likelihood:    </th> <td> -13256.</td>\n",
       "</tr>\n",
       "<tr>\n",
       "  <th>converged:</th>           <td>True</td>       <th>  LL-Null:           </th> <td> -16315.</td>\n",
       "</tr>\n",
       "<tr>\n",
       "  <th> </th>                      <td> </td>        <th>  LLR p-value:       </th>  <td> 0.000</td> \n",
       "</tr>\n",
       "</table>\n",
       "<table class=\"simpletable\">\n",
       "<tr>\n",
       "      <td></td>         <th>coef</th>     <th>std err</th>      <th>z</th>      <th>P>|z|</th>  <th>[0.025</th>    <th>0.975]</th>  \n",
       "</tr>\n",
       "<tr>\n",
       "  <th>Intercept</th> <td>   -2.3996</td> <td>    0.019</td> <td> -125.132</td> <td> 0.000</td> <td>   -2.437</td> <td>   -2.362</td>\n",
       "</tr>\n",
       "<tr>\n",
       "  <th>age</th>       <td>    0.0845</td> <td>    0.016</td> <td>    5.408</td> <td> 0.000</td> <td>    0.054</td> <td>    0.115</td>\n",
       "</tr>\n",
       "<tr>\n",
       "  <th>balance</th>   <td>    0.1132</td> <td>    0.013</td> <td>    8.668</td> <td> 0.000</td> <td>    0.088</td> <td>    0.139</td>\n",
       "</tr>\n",
       "<tr>\n",
       "  <th>day</th>       <td>   -0.0137</td> <td>    0.017</td> <td>   -0.820</td> <td> 0.412</td> <td>   -0.047</td> <td>    0.019</td>\n",
       "</tr>\n",
       "<tr>\n",
       "  <th>duration</th>  <td>    0.9367</td> <td>    0.015</td> <td>   64.468</td> <td> 0.000</td> <td>    0.908</td> <td>    0.965</td>\n",
       "</tr>\n",
       "<tr>\n",
       "  <th>campaign</th>  <td>   -0.3967</td> <td>    0.030</td> <td>  -13.361</td> <td> 0.000</td> <td>   -0.455</td> <td>   -0.338</td>\n",
       "</tr>\n",
       "<tr>\n",
       "  <th>pdays</th>     <td>    0.2116</td> <td>    0.015</td> <td>   13.698</td> <td> 0.000</td> <td>    0.181</td> <td>    0.242</td>\n",
       "</tr>\n",
       "<tr>\n",
       "  <th>previous</th>  <td>    0.1980</td> <td>    0.017</td> <td>   11.666</td> <td> 0.000</td> <td>    0.165</td> <td>    0.231</td>\n",
       "</tr>\n",
       "</table>"
      ],
      "text/plain": [
       "<class 'statsmodels.iolib.summary.Summary'>\n",
       "\"\"\"\n",
       "                           Logit Regression Results                           \n",
       "==============================================================================\n",
       "Dep. Variable:                      y   No. Observations:                45211\n",
       "Model:                          Logit   Df Residuals:                    45203\n",
       "Method:                           MLE   Df Model:                            7\n",
       "Date:                Wed, 23 Aug 2017   Pseudo R-squ.:                  0.1875\n",
       "Time:                        16:38:33   Log-Likelihood:                -13256.\n",
       "converged:                       True   LL-Null:                       -16315.\n",
       "                                        LLR p-value:                     0.000\n",
       "==============================================================================\n",
       "                 coef    std err          z      P>|z|      [0.025      0.975]\n",
       "------------------------------------------------------------------------------\n",
       "Intercept     -2.3996      0.019   -125.132      0.000      -2.437      -2.362\n",
       "age            0.0845      0.016      5.408      0.000       0.054       0.115\n",
       "balance        0.1132      0.013      8.668      0.000       0.088       0.139\n",
       "day           -0.0137      0.017     -0.820      0.412      -0.047       0.019\n",
       "duration       0.9367      0.015     64.468      0.000       0.908       0.965\n",
       "campaign      -0.3967      0.030    -13.361      0.000      -0.455      -0.338\n",
       "pdays          0.2116      0.015     13.698      0.000       0.181       0.242\n",
       "previous       0.1980      0.017     11.666      0.000       0.165       0.231\n",
       "==============================================================================\n",
       "\"\"\""
      ]
     },
     "execution_count": 9,
     "metadata": {},
     "output_type": "execute_result"
    }
   ],
   "source": [
    "import statsmodels.formula.api as sm\n",
    "\n",
    "df_num_target = df_num.copy( deep=True)\n",
    "df_num_target['y'] = y\n",
    "\n",
    "model = sm.logit(\n",
    "    \"y ~ age + balance + day + duration + campaign + pdays + previous\",\n",
    "    data = df_num_target\n",
    ").fit()\n",
    "model.summary()\n",
    "# all numerical variables but 'day' seemed to be predictive of 'y'. Age and balance had the largest effect."
   ]
  },
  {
   "cell_type": "code",
   "execution_count": 10,
   "metadata": {},
   "outputs": [
    {
     "data": {
      "image/png": "[encoded data removed]",
      "text/plain": [
       "<matplotlib.figure.Figure at 0x7f0ef5ae5a50>"
      ]
     },
     "metadata": {},
     "output_type": "display_data"
    }
   ],
   "source": [
    "# 'age', 'balance', 'poutcome'\n",
    "import seaborn as sns\n",
    "import matplotlib.pyplot as plt\n",
    "\n",
    "df_plot=data[['age', 'y']]\n",
    "\n",
    "sns.violinplot(x='y',\n",
    "            y='age',\n",
    "           data=df_plot)\n",
    "plt.show()\n",
    "\n",
    "#It appears that the age of subscribers is more skewed towards higher ages than non-subscribers. \n",
    "#The difference is very visibly notable above age 60; a much higher proportion of subscribers were of retirement \n",
    "# age than nonsubscribers."
   ]
  },
  {
   "cell_type": "code",
   "execution_count": 11,
   "metadata": {},
   "outputs": [
    {
     "data": {
      "image/png": "[encoded data removed]",
      "text/plain": [
       "<matplotlib.figure.Figure at 0x7f0ef5887250>"
      ]
     },
     "metadata": {},
     "output_type": "display_data"
    }
   ],
   "source": [
    "df_plot=data[['balance', 'y']]\n",
    "\n",
    "sns.violinplot(x='y',\n",
    "            y='balance',\n",
    "           data=df_plot)\n",
    "plt.ylim(-2000, 10000)\n",
    "plt.show()\n",
    "\n",
    "# Although it is more difficult to see in this plot due to the massive variance in bank account balances,\n",
    "# subscribers in general had a larger average bank account balance as opposed to non-subscribers. The distribution\n",
    "# of balances for non-subscribers was also more skewed towards low numbers."
   ]
  },
  {
   "cell_type": "code",
   "execution_count": 12,
   "metadata": {},
   "outputs": [
    {
     "data": {
      "image/png": "[encoded data removed]",
      "text/plain": [
       "<matplotlib.figure.Figure at 0x7f0f0610aed0>"
      ]
     },
     "metadata": {},
     "output_type": "display_data"
    }
   ],
   "source": [
    "df_plot = pd.DataFrame()\n",
    "df_plot['poutcome'] = data['poutcome']\n",
    "df_plot['y'] = y\n",
    "\n",
    "ax = sns.barplot(x='poutcome', y='y', data=df_plot)\n",
    "plt.show()\n",
    "\n",
    "# As you would expect, a previous marketing campaign being successful was a huge predictor in whether\n",
    "# the current one would be successful as well."
   ]
  },
  {
   "cell_type": "markdown",
   "metadata": {},
   "source": [
    "# MODELING\n",
    "- Identify how you would control for overfitting in each classification technique.\n",
    "- Evaluate the performance of each model. Be robust in your analysis.\n",
    "- In each model, identify the most important predictive variables and explain how you identified them."
   ]
  },
  {
   "cell_type": "code",
   "execution_count": 13,
   "metadata": {
    "collapsed": true,
    "scrolled": true
   },
   "outputs": [],
   "source": [
    "from sklearn.linear_model import LogisticRegression\n",
    "from sklearn.model_selection import train_test_split, GridSearchCV\n",
    "\n",
    "# most common categorical responses to set as defaults for linear models\n",
    "defaults = ['job_blue-collar', 'marital_married', 'education_secondary', \n",
    "            'contact_cellular', 'month_may', 'poutcome_unknown']\n",
    "\n",
    "#combine df_bin and df_num for prediction, split into train/test\n",
    "df_all = pd.concat( [ df_bin.drop( defaults, axis=1), df_num ], axis=1)\n",
    "features = df_all.columns.values\n",
    "df_all_train, df_all_test, y_train, y_test = train_test_split(df_all, y, test_size=.1)\n",
    "\n",
    "#gridsearch to find best parameters\n",
    "params = {'penalty': ['l1', 'l2'],\n",
    "         'C': [.01, .1, 1, 10]\n",
    "         }\n",
    "log_grid = GridSearchCV(LogisticRegression(), param_grid=params).fit( df_all_train, y_train)\n",
    "log_model = log_grid.best_estimator_"
   ]
  },
  {
   "cell_type": "markdown",
   "metadata": {},
   "source": [
    "In this logit model I used grid search cross validation to find the best tuning parameters. The cross validation ensured that the best parameters were chosen without overfitting to any one training set. I also used Sklearn's\n",
    "logistic regression function rather than statsmodels. Sklearn automatically implements regularization which \n",
    "also serves to reduce overfitting<br>"
   ]
  },
  {
   "cell_type": "code",
   "execution_count": 14,
   "metadata": {},
   "outputs": [
    {
     "name": "stdout",
     "output_type": "stream",
     "text": [
      "Accuracy Score: 0.894957983193\n",
      "Standard Deviation: 0.000440358838498\n",
      "Baseline Score: 0.871074745688\n"
     ]
    }
   ],
   "source": [
    "from sklearn.metrics import accuracy_score\n",
    "from sklearn.model_selection import cross_val_score\n",
    "\n",
    "#log model evaluation\n",
    "cval_scores = cross_val_score(log_model, df_all_train, y_train)\n",
    "y_pred = log_model.predict( df_all_test)\n",
    "\n",
    "print 'Accuracy Score: ' + str( accuracy_score(y_pred, y_test))\n",
    "print 'Standard Deviation: ' + str(cval_scores.std())\n",
    "print 'Baseline Score: ' + str( 1 - float(sum(y_test)) / len(y_test))"
   ]
  },
  {
   "cell_type": "markdown",
   "metadata": {},
   "source": [
    "Although it may not seem like a large difference, the accuracy of my model was significantly higher than the baseline accuracy, which is what could be achieved by predicting that every person would not subscribe. The difference between the accuracy of my model on the test set and thase baseline accuracy was about 6 standard deviations, meaning there was <.001% chance of this occuring by chance"
   ]
  },
  {
   "cell_type": "code",
   "execution_count": 15,
   "metadata": {
    "scrolled": true
   },
   "outputs": [
    {
     "data": {
      "text/plain": [
       "[('poutcome_success', 2.3835343404666069),\n",
       " ('month_mar', 1.978281233134221),\n",
       " ('month_oct', 1.2383312734257366),\n",
       " ('month_sep', 1.1210354760696863),\n",
       " ('duration', 1.0828393533249638),\n",
       " ('month_dec', 0.97360566777367796),\n",
       " ('month_jun', 0.87647262560839889),\n",
       " ('job_student', 0.68340264580414645),\n",
       " ('job_retired', 0.52226036060098036),\n",
       " ('month_apr', 0.3580130151464313),\n",
       " ('poutcome_other', 0.31357986405306082),\n",
       " ('marital_single', 0.28594970877277537),\n",
       " ('job_admin.', 0.27301655296479371),\n",
       " ('month_feb', 0.19797655952058438),\n",
       " ('marital_divorced', 0.18787443779836513),\n",
       " ('education_tertiary', 0.17891613330210743),\n",
       " ('job_management', 0.13610129403815455),\n",
       " ('poutcome_failure', 0.11471540265475362),\n",
       " ('job_technician', 0.11301375839727044),\n",
       " ('day', 0.088750654430204814),\n",
       " ('job_services', 0.068865163558506567),\n",
       " ('education_unknown', 0.068352545632238734),\n",
       " ('balance', 0.03605807436354018),\n",
       " ('previous', 0.024006751650258909),\n",
       " ('job_unemployed', 0.010816161442950903),\n",
       " ('age', 0.0023956628614568501),\n",
       " ('pdays', -0.016727485634147644),\n",
       " ('default', -0.022409682958768166),\n",
       " ('job_self-employed', -0.044660600036186215),\n",
       " ('job_unknown', -0.049840018351945341),\n",
       " ('job_entrepreneur', -0.055350623156311424),\n",
       " ('contact_telephone', -0.13400017504379852),\n",
       " ('job_housemaid', -0.18544099468112338),\n",
       " ('education_primary', -0.20454181814662406),\n",
       " ('campaign', -0.26814888968371309),\n",
       " ('month_aug', -0.33934383377578664),\n",
       " ('loan', -0.4372816648720011),\n",
       " ('month_jul', -0.46777823271717706),\n",
       " ('month_nov', -0.51486549676246507),\n",
       " ('housing', -0.68180874202192288),\n",
       " ('month_jan', -0.96968775267240859),\n",
       " ('contact_unknown', -1.671674535599271)]"
      ]
     },
     "execution_count": 15,
     "metadata": {},
     "output_type": "execute_result"
    }
   ],
   "source": [
    "# zip coefficients and feature names into tuples so they can be sorted\n",
    "feat_coefs = zip( features, log_model.coef_[0])\n",
    "feat_coefs = sorted(feat_coefs, key=lambda x: x[1], reverse=True)\n",
    "feat_coefs"
   ]
  },
  {
   "cell_type": "markdown",
   "metadata": {},
   "source": [
    "The most important predictor of whether the campaign was 'poutcome', with previous success being very highly predictive of current success. The 'month' and 'job' variables also turned out to be important predictors for this model. I judged which predictors were most important by the absolute value of the coefficient. Positive values were positively correlated with the odds of success, while negative coefficients were negatively correlated. Odds are measured in comparison to default values I chose above."
   ]
  },
  {
   "cell_type": "code",
   "execution_count": 16,
   "metadata": {},
   "outputs": [
    {
     "name": "stdout",
     "output_type": "stream",
     "text": [
      "{'max_features': 20, 'max_depth': 10}\n"
     ]
    }
   ],
   "source": [
    "from sklearn.ensemble import RandomForestClassifier\n",
    "\n",
    "params = {'max_depth': [2,5,10, None],\n",
    "         'max_features': [5,10,20, None]\n",
    "         }\n",
    "rforest_grid = GridSearchCV( RandomForestClassifier(), param_grid=params, n_jobs=-1)\n",
    "rforest_grid.fit( df_all_train, y_train)\n",
    "print rforest_grid.best_params_\n",
    "rforest = rforest_grid.best_estimator_"
   ]
  },
  {
   "cell_type": "markdown",
   "metadata": {},
   "source": [
    "Again, I used gridsearch cross-validation to control for overfitting when selecting the best parameters. I also used gridsearch to adjust the max_depth and max_features which also served to limit overfitting when fitting the random forest to my training data. "
   ]
  },
  {
   "cell_type": "code",
   "execution_count": 17,
   "metadata": {},
   "outputs": [
    {
     "name": "stdout",
     "output_type": "stream",
     "text": [
      "Accuracy Score: 0.89871738169\n",
      "Standard Deviation: 0.000406025934767\n",
      "Baseline Score: 0.871074745688\n"
     ]
    }
   ],
   "source": [
    "y_pred = rforest.predict( df_all_test)\n",
    "cval_scores = cross_val_score(rforest, df_all_train, y_train)\n",
    "print 'Accuracy Score: ' + str( accuracy_score(y_pred, y_test))\n",
    "print 'Standard Deviation: ' + str( cval_scores.std())\n",
    "print 'Baseline Score: ' + str( 1 - float(sum(y_test)) / len(y_test))"
   ]
  },
  {
   "cell_type": "markdown",
   "metadata": {},
   "source": [
    "The random forest model performed significantly better than the logit model. The difference in accuracy again seems small, but when compared to the standard deviation of the cross_validated scores, it is still evident that this increase in accuracy was due to the predictive power of the model rather than just random chance."
   ]
  },
  {
   "cell_type": "code",
   "execution_count": 18,
   "metadata": {
    "scrolled": true
   },
   "outputs": [
    {
     "data": {
      "text/plain": [
       "[('duration', 0.40858177894608055),\n",
       " ('poutcome_success', 0.14913690850983224),\n",
       " ('pdays', 0.060839472078178095),\n",
       " ('age', 0.058761411776582603),\n",
       " ('balance', 0.039272701173900408),\n",
       " ('day', 0.037267907056398014),\n",
       " ('month_mar', 0.030605270316462839),\n",
       " ('contact_unknown', 0.024512620216147113),\n",
       " ('housing', 0.021998385402678643),\n",
       " ('month_jun', 0.017680576212221265),\n",
       " ('month_oct', 0.015786716080010369),\n",
       " ('month_apr', 0.015225635591304298),\n",
       " ('campaign', 0.015113526156627779),\n",
       " ('previous', 0.012955083181694643),\n",
       " ('poutcome_other', 0.0085405181918177288),\n",
       " ('job_student', 0.0057566039783675162),\n",
       " ('marital_single', 0.0057273484211865424),\n",
       " ('poutcome_failure', 0.0055804283284879757),\n",
       " ('education_tertiary', 0.0046975354431507748),\n",
       " ('month_sep', 0.0046057467634097503),\n",
       " ('month_aug', 0.0044430603489632814),\n",
       " ('month_nov', 0.0040170166538036406),\n",
       " ('job_management', 0.0039460310926329005),\n",
       " ('education_primary', 0.0038802604485934722),\n",
       " ('job_technician', 0.003492580804657116),\n",
       " ('month_feb', 0.003380706726405054),\n",
       " ('loan', 0.0032146067595483483),\n",
       " ('marital_divorced', 0.0031075519984735062),\n",
       " ('job_admin.', 0.0031038045845563902),\n",
       " ('job_services', 0.002886987088159561),\n",
       " ('month_jan', 0.0025643182643507643),\n",
       " ('month_dec', 0.0025456619366302294),\n",
       " ('education_unknown', 0.0023953845199063566),\n",
       " ('month_jul', 0.0023485810006059022),\n",
       " ('job_unemployed', 0.0023429076342518303),\n",
       " ('contact_telephone', 0.0022487925847296509),\n",
       " ('job_retired', 0.0020726900665733743),\n",
       " ('job_entrepreneur', 0.0017779414036690065),\n",
       " ('job_self-employed', 0.0013131367357169111),\n",
       " ('job_unknown', 0.00081841634325078715),\n",
       " ('default', 0.00081055723241267412),\n",
       " ('job_housemaid', 0.00064283194757007119)]"
      ]
     },
     "execution_count": 18,
     "metadata": {},
     "output_type": "execute_result"
    }
   ],
   "source": [
    "rfeat_coefs = zip( features, rforest.feature_importances_)\n",
    "rfeat_coefs = sorted(rfeat_coefs, key=lambda x: x[1], reverse=True)\n",
    "rfeat_coefs"
   ]
  },
  {
   "cell_type": "markdown",
   "metadata": {},
   "source": [
    "The most important predictors for the random forest model were 'duration', 'poutcome', 'pdays', 'balance', and 'age'. I identified this by examining the feature_importances attribute of my random forest model which corresponds to the number of times each feature was used for splitting observations into groups with higher purity."
   ]
  },
  {
   "cell_type": "markdown",
   "metadata": {},
   "source": [
    "# EXPLANATION"
   ]
  },
  {
   "cell_type": "markdown",
   "metadata": {},
   "source": [
    "- To Technical Audiences\n",
    "    - Explain the limitations of your analysis and identify possible further steps you could take.\n",
    "- To Non-Technical Audiences\n",
    "    - Write a short summary of your analysis, explaining how your model works and how it performs.\n",
    "    - Briefly explain the factors that contributed to identifying subscription versus non-subscription."
   ]
  },
  {
   "cell_type": "markdown",
   "metadata": {},
   "source": []
  },
  {
   "cell_type": "markdown",
   "metadata": {},
   "source": [
    "# Technical\n",
    "As with almost any data analysis project, one of the main limiting factors was the data that was available to me. I would have liked to have a list of all previous contacts along with the exact day they occurred on. It could also potentially be helpful to have more accurate job descriptions other than the few categories provided. \n",
    "With more time, I could increase the accuracy of my model by engineering more features and accounting for interaction terms between variables. I would also like to combine the 'month' and 'day' variables into a single ordinal time variable. If I also had the year of last contact, I could do a proper temporal analysis and determine if there is an optimal frequency/time at which to contact potential subscribers. I would also like to see if a stratified."
   ]
  },
  {
   "cell_type": "markdown",
   "metadata": {},
   "source": [
    "# Non-technical\n",
    "I fit two separate classification models to my data, a logit model and random forest model. The random forest model was the best of the two. The random forest model was able to predict whether somebody would subscribe with 90.3% accuracy, which was significantly better than guessing. My model identified 'duration', 'balance', 'age', nd 'poutcome' as the most important predictors for whether somebody would subscribe. The random forest in general works great for making predictions. Unfortunately, this type of model can't tell you how much of an effect each of these variables had. <br>\n",
    "The logit model determines how big of an effect each of your features has on the likelihood of an individual subscribing. This model determined that the single largest predictor of somebody subscribing was a previous marketing campaign being successful. If a previous marketing campaign worked on somebody, they were about 10 times as likely to subscribe due to the current one. Also, the older somebody was and the more money they kept in the bank on average, the more likely they were to subscribe. The duration of last contact was also a great predictor of whether somebody would subscribe. The longer they were willing to stay on the phone, the more likely they were to subscribe, which seems pretty intuitive."
   ]
  },
  {
   "cell_type": "markdown",
   "metadata": {},
   "source": [
    "# PART 2"
   ]
  },
  {
   "cell_type": "code",
   "execution_count": null,
   "metadata": {
    "collapsed": true
   },
   "outputs": [],
   "source": [
    "#STUDENT SAMPLE 1\n",
    "#!/usr/bin/env python\n",
    "\n",
    "import pandas as pd\n",
    "import numpy as np\n",
    "from sklearn import LinearRegression\n",
    "from sklearn.cross_validation import cross_val_score\n",
    "\n",
    "# Load data\n",
    "d = pd.read_csv('../data/train.csv')\n",
    "\n",
    "\n",
    "# Setup data for prediction\n",
    "x1 = data.SalaryNormalized\n",
    "x2 = pd.get_dummies(data.ContractType)\n",
    "\n",
    "# Setup model\n",
    "model = LinearRegression()\n",
    "\n",
    "# Evaluate model\n",
    "from sklearn.cross_validation import cross_val_score\n",
    "from sklearn.cross_validation import train_test_split\n",
    "scores = cross_val_score(model, x2, x1, cv=1, scoring='mean_absolute_error')\n",
    "print(scores.mean())"
   ]
  },
  {
   "cell_type": "markdown",
   "metadata": {},
   "source": [
    "You imported cross_val_score twice. Also, you can combine imports from the same package into 1 line, e.g. <br>\n",
    "from sklearn.cross_validation import cross_val_score, train_test_split <br><br>\n",
    "You stored your data in variable 'd', while it was referenced as 'data' when you were splitting it into x1 and x2. These need to be consistent <br>\n",
    "Try using more descriptive variables names so you can keep track of them more easily in larger projects. I prefer to call the original unmodified dataframe 'data'. In Scikit-learn, 'y' is convention for your target variable, and 'X' is convention for your predictors <br><br>\n",
    "In cross_val_score, the parameter 'cv' must be an integer 2 or greater. Cross validation requires at least 2 folds so it can choose separate testing and training sets. <br><br>\n",
    "You may also want to print out the standard deviation of the scores with scores.std(). This will give you an idea of how likely your mean score is to be reflective of your actual model performance."
   ]
  },
  {
   "cell_type": "code",
   "execution_count": null,
   "metadata": {
    "collapsed": true
   },
   "outputs": [],
   "source": [
    "#STUDENT SAMPLE 2\n",
    "#!/usr/bin/env python\n",
    "\n",
    "import pandas as pd\n",
    "import numpy as np\n",
    "from sklearn.linear_model import LinearRegression\n",
    "from sklearn.cross_validation import cross_val_score\n",
    "\n",
    "# Load data\n",
    "data = pd.read_csv('../data/train.csv')\n",
    "\n",
    "\n",
    "# Setup data for prediction\n",
    "y = data.SalaryNormalized\n",
    "X = pd.get_dummies(data.ContractType)\n",
    "\n",
    "# Setup model\n",
    "model = LinearRegression()\n",
    "\n",
    "# Evaluate model\n",
    "scores = cross_val_score(model, X, y, cv=5, scoring='mean_absolute_error')\n",
    "print( scores.mean())"
   ]
  },
  {
   "cell_type": "markdown",
   "metadata": {},
   "source": [
    "Very clean code, and well done. You may also want to print out the standard deviation of the scores with scores.std(). This will give you an idea of how likely your mean score is to be reflective of your actual model performance. <br><br>"
   ]
  }
 ],
 "metadata": {
  "kernelspec": {
   "display_name": "Python 2",
   "language": "python",
   "name": "python2"
  },
  "language_info": {
   "codemirror_mode": {
    "name": "ipython",
    "version": 2
   },
   "file_extension": ".py",
   "mimetype": "text/x-python",
   "name": "python",
   "nbconvert_exporter": "python",
   "pygments_lexer": "ipython2",
   "version": "2.7.13"
  }
 },
 "nbformat": 4,
 "nbformat_minor": 2
}
